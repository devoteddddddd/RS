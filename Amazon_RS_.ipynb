{
 "cells": [
  {
   "cell_type": "code",
   "execution_count": 1,
   "id": "9a937039",
   "metadata": {},
   "outputs": [],
   "source": [
    "import pandas as pd\n",
    "import json\n",
    "import re\n",
    "import numpy as np"
   ]
  },
  {
   "cell_type": "code",
   "execution_count": 2,
   "id": "a9f5a783",
   "metadata": {},
   "outputs": [],
   "source": [
    "path1 =r'./meta_Gift_Cards.json'\n",
    "meta_GC = []\n",
    "with open(path1, 'r', encoding='utf-8') as f:\n",
    "    for line in f.readlines():\n",
    "        dic = json.loads(line)\n",
    "        meta_GC.append(dic)\n",
    "\n",
    "df_meta_GC = pd.DataFrame(meta_GC)"
   ]
  },
  {
   "cell_type": "code",
   "execution_count": 3,
   "id": "71da23cf",
   "metadata": {},
   "outputs": [],
   "source": [
    "df_meta_GC_2 = df_meta_GC[['asin', 'feature', 'description','also_buy', 'brand', 'also_view', 'main_cat', 'imageURLHighRes']].copy()"
   ]
  },
  {
   "cell_type": "markdown",
   "id": "b40153ce",
   "metadata": {},
   "source": [
    "# 数据预处理"
   ]
  },
  {
   "cell_type": "code",
   "execution_count": 4,
   "id": "6d63951c",
   "metadata": {},
   "outputs": [],
   "source": [
    "df_meta_GC_2['imageURLHighRes_2'] = df_meta_GC_2['imageURLHighRes'].astype(str)\n",
    "df_meta_GC_2 = df_meta_GC_2.drop_duplicates(['imageURLHighRes_2'])\n",
    "df_meta_GC_2 = df_meta_GC_2.reset_index(drop=True)"
   ]
  },
  {
   "cell_type": "code",
   "execution_count": 5,
   "id": "9a62cfaf",
   "metadata": {},
   "outputs": [],
   "source": [
    "def cleaner(list_feature):\n",
    "    list_feature = list_feature.replace('\\n', '').replace('\\r', '')\n",
    "    list_feature = list_feature.strip()\n",
    "    pattern = re.compile(r'<[^>]+>',re.S)\n",
    "    list_feature = pattern.sub('', list_feature)\n",
    "    return list_feature\n",
    "\n",
    "row_num = df_meta_GC_2.shape[0]\n",
    "for i in range(row_num):\n",
    "    for j in range(len(df_meta_GC_2['feature'][i])):\n",
    "        df_meta_GC_2['feature'][i][j]=cleaner(df_meta_GC_2['feature'][i][j]) \n",
    "        \n",
    "for i in range(row_num):\n",
    "    for j in range(len(df_meta_GC_2['description'][i])):\n",
    "        df_meta_GC_2['description'][i][j]=cleaner(df_meta_GC_2['description'][i][j]) \n",
    "        \n",
    "for i in range(row_num):\n",
    "    df_meta_GC_2['main_cat'][i]=cleaner(df_meta_GC_2['main_cat'][i]) "
   ]
  },
  {
   "cell_type": "code",
   "execution_count": 6,
   "id": "fd50c62f",
   "metadata": {},
   "outputs": [],
   "source": [
    "def cleaner2(list_feature):\n",
    "    result = re.sub(r'[^\\s]*[.com]$', '', list_feature)\n",
    "    result2 = re.compile(r'[http|https]*://[a-zA-Z0-9.?/&=:]*', re.S)\n",
    "    s = re.sub(result2, '', result)\n",
    "    return s\n",
    "\n",
    "row_num = df_meta_GC_2.shape[0]\n",
    "for i in range(row_num):\n",
    "    for j in range(len(df_meta_GC_2['feature'][i])):\n",
    "        df_meta_GC_2['feature'][i][j]=cleaner2(df_meta_GC_2['feature'][i][j]) \n",
    "        \n",
    "for i in range(row_num):\n",
    "    for j in range(len(df_meta_GC_2['description'][i])):\n",
    "        df_meta_GC_2['description'][i][j]=cleaner2(df_meta_GC_2['description'][i][j])\n",
    "\n",
    "for i in range(row_num):\n",
    "    df_meta_GC_2['main_cat'][i]=cleaner2(df_meta_GC_2['main_cat'][i]) "
   ]
  },
  {
   "cell_type": "code",
   "execution_count": 7,
   "id": "6cdddf62",
   "metadata": {},
   "outputs": [],
   "source": [
    "def cleaner3(x):\n",
    "    s = re.sub(r\"[^a-zA-Z\\s]\", \"\", x)\n",
    "    return s\n",
    "\n",
    "df_meta_GC_2['feature'] = df_meta_GC_2['feature'].astype(str)\n",
    "df_meta_GC_2['description'] = df_meta_GC_2['description'].astype(str)\n",
    "df_meta_GC_2['feature'] = df_meta_GC_2['feature'].apply(cleaner3)\n",
    "df_meta_GC_2['description'] = df_meta_GC_2['description'].apply(cleaner3)"
   ]
  },
  {
   "cell_type": "code",
   "execution_count": 8,
   "id": "4bfeb2e0",
   "metadata": {},
   "outputs": [],
   "source": [
    "df_meta_GC_2['text'] = df_meta_GC_2['feature'] + df_meta_GC_2['description']"
   ]
  },
  {
   "cell_type": "code",
   "execution_count": 9,
   "id": "3973c5eb",
   "metadata": {},
   "outputs": [],
   "source": [
    "selected_index = []\n",
    "count = 0\n",
    "for i in range(row_num):\n",
    "    if (len(df_meta_GC_2['text'][i]) > 0) and (df_meta_GC_2['imageURLHighRes'][i] != list()):\n",
    "        count = count + 1\n",
    "        selected_index.append(i)\n",
    "\n",
    "df_meta_GC_3 = df_meta_GC_2.loc[selected_index].copy()\n",
    "df_meta_GC_3 = df_meta_GC_3.sort_values(by='asin')\n",
    "df_meta_GC_3 = df_meta_GC_3.reset_index(drop=True)"
   ]
  },
  {
   "cell_type": "code",
   "execution_count": 11,
   "id": "16769828",
   "metadata": {},
   "outputs": [],
   "source": [
    "# 下载图片\n",
    "import requests\n",
    "import os\n",
    "\n",
    "def download_image(url, filename):\n",
    "    try:\n",
    "        response = requests.get(url)\n",
    "        response.raise_for_status()  # 检查请求是否成功\n",
    "        with open(filename, 'wb') as file:\n",
    "            file.write(response.content)\n",
    "    except (requests.RequestException, IOError) as e:\n",
    "        print(f\"下载 {url} 失败: {str(e)}\")\n",
    "\n",
    "# 创建存储图片的根目录\n",
    "\n",
    "root_directory = 'D:/system default/桌面/images/'\n",
    "if not os.path.exists(root_directory):\n",
    "    os.makedirs(root_directory)\n",
    "\n",
    "# 遍历每行数据，下载图片\n",
    "for index, row in df_meta_GC_3.iterrows():\n",
    "    asin = row['asin']\n",
    "    image_urls = row['imageURLHighRes']\n",
    "\n",
    "    for i, url in enumerate(image_urls):\n",
    "        if(i == 1):\n",
    "            break\n",
    "        s = str(asin) + '.jpg'\n",
    "        filename = os.path.join(root_directory, s)\n",
    "        download_image(url, filename)"
   ]
  },
  {
   "cell_type": "markdown",
   "id": "318df072-55cc-4b96-b384-9be5aad3876a",
   "metadata": {},
   "source": [
    "# 将商品的描述Embedding"
   ]
  },
  {
   "cell_type": "markdown",
   "id": "27a5e095-4b61-42bb-b408-a80b8dd92bd1",
   "metadata": {},
   "source": [
    "### 第一次使用"
   ]
  },
  {
   "cell_type": "code",
   "execution_count": 10,
   "id": "1b66059d-387d-44a1-be31-2f357cfea886",
   "metadata": {},
   "outputs": [],
   "source": [
    "from transformers import AutoTokenizer, AutoModel"
   ]
  },
  {
   "cell_type": "code",
   "execution_count": 11,
   "id": "ae17eaac-eb9f-48a4-870f-33a2ea0ee561",
   "metadata": {},
   "outputs": [],
   "source": [
    "tokenizer = AutoTokenizer.from_pretrained(\"bert-base-uncased\")\n",
    "model = AutoModel.from_pretrained(\"bert-base-uncased\")"
   ]
  },
  {
   "cell_type": "code",
   "execution_count": 12,
   "id": "c4758409-9fd9-4061-9552-4dbbf0a53c6b",
   "metadata": {},
   "outputs": [],
   "source": [
    "inputs = tokenizer(list(df_meta_GC_3['text']), padding=True, truncation=True, max_length=64, return_tensors=\"pt\")\n",
    "outputs = model(**inputs)\n",
    "torch_item_embed = outputs.pooler_output"
   ]
  },
  {
   "cell_type": "code",
   "execution_count": 14,
   "id": "30ea07a9-b0c0-4459-bd1e-c406634bb763",
   "metadata": {},
   "outputs": [
    {
     "data": {
      "text/plain": [
       "(442, 768)"
      ]
     },
     "execution_count": 14,
     "metadata": {},
     "output_type": "execute_result"
    }
   ],
   "source": [
    "item_embed = torch_item_embed.detach().numpy()\n",
    "item_embed.shape"
   ]
  },
  {
   "cell_type": "code",
   "execution_count": 15,
   "id": "e6502c57-d61c-4d9b-920a-790c6e517ba7",
   "metadata": {},
   "outputs": [],
   "source": [
    "np.save(\"item_embedding.npy\", item_embed)"
   ]
  },
  {
   "cell_type": "markdown",
   "id": "7f933cb2-068d-48f6-b1fe-2d948eb4dcf8",
   "metadata": {},
   "source": [
    "### 第二次使用可以直接加载，不用运行第一次使用的代码块"
   ]
  },
  {
   "cell_type": "code",
   "execution_count": 10,
   "id": "13982639-817f-4457-bfd5-b52221298978",
   "metadata": {},
   "outputs": [
    {
     "data": {
      "text/plain": [
       "(442, 768)"
      ]
     },
     "execution_count": 10,
     "metadata": {},
     "output_type": "execute_result"
    }
   ],
   "source": [
    "# 第二次使用的时候可以直接加载\n",
    "item_embed = np.load(\"item_embedding.npy\")\n",
    "item_embed.shape"
   ]
  },
  {
   "cell_type": "markdown",
   "id": "2b13d25f",
   "metadata": {},
   "source": [
    "# 多模态融合"
   ]
  },
  {
   "cell_type": "code",
   "execution_count": 11,
   "id": "87143c2b",
   "metadata": {},
   "outputs": [],
   "source": [
    "import torch"
   ]
  },
  {
   "cell_type": "code",
   "execution_count": 12,
   "id": "74691ebd",
   "metadata": {},
   "outputs": [],
   "source": [
    "image_embed = pd.read_csv('./img_embed.csv')\n",
    "image_embed = image_embed.sort_values(by='0')\n",
    "image_embed_2 = image_embed.iloc[:,1:]\n",
    "image_embed_3 = image_embed_2.to_numpy()\n",
    "torch_image_embed = torch.tensor(image_embed_3)"
   ]
  },
  {
   "cell_type": "code",
   "execution_count": 13,
   "id": "851b1fba-a2e3-4b94-a43f-2c88bc0e7ff0",
   "metadata": {},
   "outputs": [],
   "source": [
    "torch_item_embed = torch.tensor(item_embed)"
   ]
  },
  {
   "cell_type": "code",
   "execution_count": 14,
   "id": "d4ae9fad-6c95-489a-92f4-263c1dae55c3",
   "metadata": {},
   "outputs": [
    {
     "data": {
      "text/plain": [
       "(torch.Size([442, 768]), torch.Size([442, 768]))"
      ]
     },
     "execution_count": 14,
     "metadata": {},
     "output_type": "execute_result"
    }
   ],
   "source": [
    "torch_item_embed.shape, torch_image_embed.shape"
   ]
  },
  {
   "cell_type": "markdown",
   "id": "8396a626-07b8-4409-8d75-81c615006ce6",
   "metadata": {},
   "source": [
    "### 根据我们的调参经验，进行简单的加权融合"
   ]
  },
  {
   "cell_type": "code",
   "execution_count": 15,
   "id": "dcc260e4-df8c-4523-aa38-97d5aa3d355c",
   "metadata": {},
   "outputs": [],
   "source": [
    "fusion_TI = 0.25 * torch_item_embed + 0.75 * torch_image_embed"
   ]
  },
  {
   "cell_type": "code",
   "execution_count": 16,
   "id": "7f5175cc",
   "metadata": {},
   "outputs": [
    {
     "data": {
      "text/plain": [
       "torch.Size([442, 768])"
      ]
     },
     "execution_count": 16,
     "metadata": {},
     "output_type": "execute_result"
    }
   ],
   "source": [
    "fusion_TI.shape"
   ]
  },
  {
   "cell_type": "markdown",
   "id": "97944d8b",
   "metadata": {},
   "source": [
    "# 关联规则分析"
   ]
  },
  {
   "cell_type": "code",
   "execution_count": 10,
   "id": "e09c7a37",
   "metadata": {},
   "outputs": [],
   "source": [
    "selected_asin = list(df_meta_GC_3['asin'])"
   ]
  },
  {
   "cell_type": "code",
   "execution_count": 11,
   "id": "167a3a07",
   "metadata": {},
   "outputs": [],
   "source": [
    "import copy"
   ]
  },
  {
   "cell_type": "code",
   "execution_count": 12,
   "id": "aace866d",
   "metadata": {},
   "outputs": [],
   "source": [
    "for i in range(df_meta_GC_3.shape[0]):\n",
    "    l = []\n",
    "    for j in range(len(df_meta_GC_3['also_buy'][i])):\n",
    "        if df_meta_GC_3['also_buy'][i][j] in selected_asin:\n",
    "            l.append(df_meta_GC_3['also_buy'][i][j])\n",
    "            \n",
    "    df_meta_GC_3['also_buy'][i] = copy.deepcopy(l)"
   ]
  },
  {
   "cell_type": "code",
   "execution_count": 13,
   "id": "25d7112c",
   "metadata": {},
   "outputs": [],
   "source": [
    "for i in range(df_meta_GC_3.shape[0]):\n",
    "    l = []\n",
    "    for j in range(len(df_meta_GC_3['also_view'][i])):\n",
    "        if df_meta_GC_3['also_view'][i][j] in selected_asin:\n",
    "            l.append(df_meta_GC_3['also_view'][i][j])\n",
    "            \n",
    "    df_meta_GC_3['also_view'][i] = copy.deepcopy(l)"
   ]
  },
  {
   "cell_type": "code",
   "execution_count": 14,
   "id": "afc725d8-c7d0-4c90-a2d2-81569855ef9b",
   "metadata": {},
   "outputs": [],
   "source": [
    "df_meta_GC_3.to_csv('Processed_Item_Info.csv', index=False)"
   ]
  },
  {
   "cell_type": "code",
   "execution_count": 15,
   "id": "f9d89b27-4c7e-4ffe-a3ff-0a2c3438308c",
   "metadata": {},
   "outputs": [],
   "source": [
    "data_rules = df_meta_GC_3[['asin','also_buy', 'also_view']].copy()\n",
    "data_rules['item_set'] = data_rules.apply(lambda row: [row['asin']] + row['also_buy'] + row['also_view'], axis=1)"
   ]
  },
  {
   "cell_type": "code",
   "execution_count": 16,
   "id": "09be6632-7202-46f3-8104-93198226425f",
   "metadata": {},
   "outputs": [],
   "source": [
    "from mlxtend.preprocessing import TransactionEncoder\n",
    "from mlxtend.frequent_patterns import association_rules\n",
    "from mlxtend.frequent_patterns import fpgrowth"
   ]
  },
  {
   "cell_type": "code",
   "execution_count": 17,
   "id": "67ebab74-de96-4dba-a525-0aaf30ff8e83",
   "metadata": {},
   "outputs": [],
   "source": [
    "Item_sets = data_rules['item_set'].tolist()\n",
    "\n",
    "# 使用TransactionEncoder将二维列表转换为适合关联规则分析的数据格式\n",
    "te = TransactionEncoder()\n",
    "te_ary = te.fit_transform(Item_sets)\n",
    "df = pd.DataFrame(te_ary, columns=te.columns_)\n",
    "\n",
    "# 参数调整\n",
    "min_support = 0.15 # 0.19有接近3000个 0.3有十几个\n",
    "min_threshold = 0.7\n",
    "\n",
    "# 使用fpgrowth挖掘频繁项集\n",
    "frequent_itemsets = fpgrowth(df, min_support=min_support, use_colnames=True)\n",
    "\n",
    "# 使用association_rules函数生成关联规则\n",
    "rules = association_rules(frequent_itemsets, metric=\"confidence\", min_threshold=min_threshold)"
   ]
  },
  {
   "cell_type": "code",
   "execution_count": 18,
   "id": "66243cee-38c8-4487-b5ec-05fc20504a7c",
   "metadata": {},
   "outputs": [
    {
     "data": {
      "text/html": [
       "<div>\n",
       "<style scoped>\n",
       "    .dataframe tbody tr th:only-of-type {\n",
       "        vertical-align: middle;\n",
       "    }\n",
       "\n",
       "    .dataframe tbody tr th {\n",
       "        vertical-align: top;\n",
       "    }\n",
       "\n",
       "    .dataframe thead th {\n",
       "        text-align: right;\n",
       "    }\n",
       "</style>\n",
       "<table border=\"1\" class=\"dataframe\">\n",
       "  <thead>\n",
       "    <tr style=\"text-align: right;\">\n",
       "      <th></th>\n",
       "      <th>antecedents</th>\n",
       "      <th>consequents</th>\n",
       "      <th>antecedent support</th>\n",
       "      <th>consequent support</th>\n",
       "      <th>support</th>\n",
       "      <th>confidence</th>\n",
       "      <th>lift</th>\n",
       "      <th>leverage</th>\n",
       "      <th>conviction</th>\n",
       "      <th>zhangs_metric</th>\n",
       "    </tr>\n",
       "  </thead>\n",
       "  <tbody>\n",
       "    <tr>\n",
       "      <th>0</th>\n",
       "      <td>(B00GOLGWVK)</td>\n",
       "      <td>(B00CXZPG0O)</td>\n",
       "      <td>0.470588</td>\n",
       "      <td>0.477376</td>\n",
       "      <td>0.393665</td>\n",
       "      <td>0.836538</td>\n",
       "      <td>1.752370</td>\n",
       "      <td>0.169018</td>\n",
       "      <td>3.197232</td>\n",
       "      <td>0.810983</td>\n",
       "    </tr>\n",
       "    <tr>\n",
       "      <th>1</th>\n",
       "      <td>(B00CXZPG0O)</td>\n",
       "      <td>(B00GOLGWVK)</td>\n",
       "      <td>0.477376</td>\n",
       "      <td>0.470588</td>\n",
       "      <td>0.393665</td>\n",
       "      <td>0.824645</td>\n",
       "      <td>1.752370</td>\n",
       "      <td>0.169018</td>\n",
       "      <td>3.019078</td>\n",
       "      <td>0.821516</td>\n",
       "    </tr>\n",
       "    <tr>\n",
       "      <th>2</th>\n",
       "      <td>(B00AS527QW)</td>\n",
       "      <td>(B00GOLGWVK)</td>\n",
       "      <td>0.341629</td>\n",
       "      <td>0.470588</td>\n",
       "      <td>0.305430</td>\n",
       "      <td>0.894040</td>\n",
       "      <td>1.899834</td>\n",
       "      <td>0.144663</td>\n",
       "      <td>4.996324</td>\n",
       "      <td>0.719409</td>\n",
       "    </tr>\n",
       "    <tr>\n",
       "      <th>3</th>\n",
       "      <td>(B00AS527QW)</td>\n",
       "      <td>(B00CXZPG0O)</td>\n",
       "      <td>0.341629</td>\n",
       "      <td>0.477376</td>\n",
       "      <td>0.305430</td>\n",
       "      <td>0.894040</td>\n",
       "      <td>1.872823</td>\n",
       "      <td>0.142345</td>\n",
       "      <td>4.932268</td>\n",
       "      <td>0.707878</td>\n",
       "    </tr>\n",
       "    <tr>\n",
       "      <th>4</th>\n",
       "      <td>(B00AS527QW)</td>\n",
       "      <td>(B00FTJI60I)</td>\n",
       "      <td>0.341629</td>\n",
       "      <td>0.361991</td>\n",
       "      <td>0.242081</td>\n",
       "      <td>0.708609</td>\n",
       "      <td>1.957533</td>\n",
       "      <td>0.118415</td>\n",
       "      <td>2.189531</td>\n",
       "      <td>0.742975</td>\n",
       "    </tr>\n",
       "    <tr>\n",
       "      <th>...</th>\n",
       "      <td>...</td>\n",
       "      <td>...</td>\n",
       "      <td>...</td>\n",
       "      <td>...</td>\n",
       "      <td>...</td>\n",
       "      <td>...</td>\n",
       "      <td>...</td>\n",
       "      <td>...</td>\n",
       "      <td>...</td>\n",
       "      <td>...</td>\n",
       "    </tr>\n",
       "    <tr>\n",
       "      <th>3973</th>\n",
       "      <td>(B00BXLVD8I, B00FTJI60I)</td>\n",
       "      <td>(B00GOLGWVK, B00CXZPG0O)</td>\n",
       "      <td>0.160633</td>\n",
       "      <td>0.393665</td>\n",
       "      <td>0.158371</td>\n",
       "      <td>0.985915</td>\n",
       "      <td>2.504452</td>\n",
       "      <td>0.095135</td>\n",
       "      <td>43.049774</td>\n",
       "      <td>0.715672</td>\n",
       "    </tr>\n",
       "    <tr>\n",
       "      <th>3974</th>\n",
       "      <td>(B00BXLVD8I, B00GOLGWVK)</td>\n",
       "      <td>(B00FTJI60I, B00CXZPG0O)</td>\n",
       "      <td>0.192308</td>\n",
       "      <td>0.319005</td>\n",
       "      <td>0.158371</td>\n",
       "      <td>0.823529</td>\n",
       "      <td>2.581560</td>\n",
       "      <td>0.097024</td>\n",
       "      <td>3.858974</td>\n",
       "      <td>0.758503</td>\n",
       "    </tr>\n",
       "    <tr>\n",
       "      <th>3975</th>\n",
       "      <td>(B00BXLVD8I, B00CXZPG0O)</td>\n",
       "      <td>(B00FTJI60I, B00GOLGWVK)</td>\n",
       "      <td>0.205882</td>\n",
       "      <td>0.330317</td>\n",
       "      <td>0.158371</td>\n",
       "      <td>0.769231</td>\n",
       "      <td>2.328767</td>\n",
       "      <td>0.090365</td>\n",
       "      <td>2.901961</td>\n",
       "      <td>0.718519</td>\n",
       "    </tr>\n",
       "    <tr>\n",
       "      <th>3976</th>\n",
       "      <td>(B00BXLVD8I)</td>\n",
       "      <td>(B00FTJI60I, B00GOLGWVK, B00CXZPG0O)</td>\n",
       "      <td>0.214932</td>\n",
       "      <td>0.305430</td>\n",
       "      <td>0.158371</td>\n",
       "      <td>0.736842</td>\n",
       "      <td>2.412476</td>\n",
       "      <td>0.092724</td>\n",
       "      <td>2.639367</td>\n",
       "      <td>0.745780</td>\n",
       "    </tr>\n",
       "    <tr>\n",
       "      <th>3977</th>\n",
       "      <td>(B00MV9FQXO)</td>\n",
       "      <td>(B01FYDFH5U)</td>\n",
       "      <td>0.210407</td>\n",
       "      <td>0.266968</td>\n",
       "      <td>0.167421</td>\n",
       "      <td>0.795699</td>\n",
       "      <td>2.980499</td>\n",
       "      <td>0.111249</td>\n",
       "      <td>3.587997</td>\n",
       "      <td>0.841555</td>\n",
       "    </tr>\n",
       "  </tbody>\n",
       "</table>\n",
       "<p>3978 rows × 10 columns</p>\n",
       "</div>"
      ],
      "text/plain": [
       "                   antecedents                           consequents  \\\n",
       "0                 (B00GOLGWVK)                          (B00CXZPG0O)   \n",
       "1                 (B00CXZPG0O)                          (B00GOLGWVK)   \n",
       "2                 (B00AS527QW)                          (B00GOLGWVK)   \n",
       "3                 (B00AS527QW)                          (B00CXZPG0O)   \n",
       "4                 (B00AS527QW)                          (B00FTJI60I)   \n",
       "...                        ...                                   ...   \n",
       "3973  (B00BXLVD8I, B00FTJI60I)              (B00GOLGWVK, B00CXZPG0O)   \n",
       "3974  (B00BXLVD8I, B00GOLGWVK)              (B00FTJI60I, B00CXZPG0O)   \n",
       "3975  (B00BXLVD8I, B00CXZPG0O)              (B00FTJI60I, B00GOLGWVK)   \n",
       "3976              (B00BXLVD8I)  (B00FTJI60I, B00GOLGWVK, B00CXZPG0O)   \n",
       "3977              (B00MV9FQXO)                          (B01FYDFH5U)   \n",
       "\n",
       "      antecedent support  consequent support   support  confidence      lift  \\\n",
       "0               0.470588            0.477376  0.393665    0.836538  1.752370   \n",
       "1               0.477376            0.470588  0.393665    0.824645  1.752370   \n",
       "2               0.341629            0.470588  0.305430    0.894040  1.899834   \n",
       "3               0.341629            0.477376  0.305430    0.894040  1.872823   \n",
       "4               0.341629            0.361991  0.242081    0.708609  1.957533   \n",
       "...                  ...                 ...       ...         ...       ...   \n",
       "3973            0.160633            0.393665  0.158371    0.985915  2.504452   \n",
       "3974            0.192308            0.319005  0.158371    0.823529  2.581560   \n",
       "3975            0.205882            0.330317  0.158371    0.769231  2.328767   \n",
       "3976            0.214932            0.305430  0.158371    0.736842  2.412476   \n",
       "3977            0.210407            0.266968  0.167421    0.795699  2.980499   \n",
       "\n",
       "      leverage  conviction  zhangs_metric  \n",
       "0     0.169018    3.197232       0.810983  \n",
       "1     0.169018    3.019078       0.821516  \n",
       "2     0.144663    4.996324       0.719409  \n",
       "3     0.142345    4.932268       0.707878  \n",
       "4     0.118415    2.189531       0.742975  \n",
       "...        ...         ...            ...  \n",
       "3973  0.095135   43.049774       0.715672  \n",
       "3974  0.097024    3.858974       0.758503  \n",
       "3975  0.090365    2.901961       0.718519  \n",
       "3976  0.092724    2.639367       0.745780  \n",
       "3977  0.111249    3.587997       0.841555  \n",
       "\n",
       "[3978 rows x 10 columns]"
      ]
     },
     "execution_count": 18,
     "metadata": {},
     "output_type": "execute_result"
    }
   ],
   "source": [
    "rules"
   ]
  },
  {
   "cell_type": "code",
   "execution_count": 19,
   "id": "d6380c00-122a-43f2-a84e-f3d2bd875fce",
   "metadata": {},
   "outputs": [],
   "source": [
    "def convert_to_list(x):\n",
    "    return list(x)\n",
    "\n",
    "rules['antecedents'] = rules['antecedents'].apply(convert_to_list)\n",
    "rules['consequents'] = rules['consequents'].apply(convert_to_list)"
   ]
  },
  {
   "cell_type": "code",
   "execution_count": 20,
   "id": "08b7ca03-a719-4de9-b523-dcffd2156ba4",
   "metadata": {},
   "outputs": [],
   "source": [
    "rules.to_csv('Rules.csv', index=False)"
   ]
  },
  {
   "cell_type": "markdown",
   "id": "9837f2a2",
   "metadata": {},
   "source": [
    "# 读取用户"
   ]
  },
  {
   "cell_type": "code",
   "execution_count": 17,
   "id": "992e2af8",
   "metadata": {},
   "outputs": [],
   "source": [
    "path2 =r'./Gift_Cards.json'\n",
    "GC = []\n",
    "with open(path2, 'r', encoding='utf-8') as f:\n",
    "    for line in f.readlines():\n",
    "        dic = json.loads(line)\n",
    "        GC.append(dic)\n",
    "        \n",
    "df_GC = pd.DataFrame(GC)\n",
    "df_GC_2 = df_GC[['reviewerID', 'reviewerName', 'asin','overall', 'reviewText', 'summary']].copy()"
   ]
  },
  {
   "cell_type": "code",
   "execution_count": 18,
   "id": "97d30139",
   "metadata": {},
   "outputs": [],
   "source": [
    "selected_asin = list(df_meta_GC_3['asin'])\n",
    "asin_index = []\n",
    "for i in range(df_GC_2.shape[0]):\n",
    "    if df_GC_2['asin'][i] in selected_asin:\n",
    "        asin_index.append(i)"
   ]
  },
  {
   "cell_type": "code",
   "execution_count": 19,
   "id": "e8079b0b",
   "metadata": {},
   "outputs": [],
   "source": [
    "df_GC_3 = df_GC_2.loc[asin_index].copy()\n",
    "df_GC_3 = df_GC_3.drop_duplicates(['reviewText'])\n",
    "df_GC_3 = df_GC_3.reset_index(drop=True)"
   ]
  },
  {
   "cell_type": "code",
   "execution_count": 20,
   "id": "b57df0c7",
   "metadata": {},
   "outputs": [],
   "source": [
    "df_GC_3['reviewText'] = df_GC_3['reviewText'].astype(str)\n",
    "df_GC_3['reviewText'] = df_GC_3['reviewText'].apply(cleaner3)"
   ]
  },
  {
   "cell_type": "code",
   "execution_count": 21,
   "id": "bdaf3a5f",
   "metadata": {},
   "outputs": [],
   "source": [
    "df_GC_4 = df_GC_3.groupby('reviewerID')['reviewText'].apply(lambda x:x.str.cat(sep=' ')).reset_index()\n",
    "df_GC_4 = df_GC_4.sort_values(by='reviewerID')"
   ]
  },
  {
   "cell_type": "markdown",
   "id": "fa841fa7-e996-47c9-90ed-87ffacd0bf64",
   "metadata": {},
   "source": [
    "# 用户下采样"
   ]
  },
  {
   "cell_type": "code",
   "execution_count": 22,
   "id": "684d11e2-005d-4576-860a-e446f72c0908",
   "metadata": {},
   "outputs": [],
   "source": [
    "df_GC_5 = df_GC_4.sample(n=1000, random_state=0).copy()\n",
    "df_GC_5 = df_GC_5.sort_values(by='reviewerID')"
   ]
  },
  {
   "cell_type": "code",
   "execution_count": 23,
   "id": "152ffe2e-08a6-4a34-82b6-ae4ea6af3ed4",
   "metadata": {},
   "outputs": [],
   "source": [
    "df_GC_5.to_csv('Processed_User_Info.csv', index=False)"
   ]
  },
  {
   "cell_type": "code",
   "execution_count": 23,
   "id": "b06eb055-8b0a-4849-aedd-36c1552c91ae",
   "metadata": {},
   "outputs": [],
   "source": [
    "selected_usr = list(df_GC_5['reviewerID'])\n",
    "sampled_index = []\n",
    "for i in range(df_GC_3.shape[0]):\n",
    "    if df_GC_3['reviewerID'][i] in selected_usr:\n",
    "        sampled_index.append(i)\n",
    "        \n",
    "df_GC_6 = df_GC_3.loc[sampled_index].copy()\n",
    "df_GC_6 = df_GC_6.reset_index(drop=True)"
   ]
  },
  {
   "cell_type": "code",
   "execution_count": 18,
   "id": "68767db2-68cf-4630-8c68-a7a94408499f",
   "metadata": {},
   "outputs": [],
   "source": [
    "from transformers import AutoTokenizer, AutoModel"
   ]
  },
  {
   "cell_type": "code",
   "execution_count": 19,
   "id": "43bc9a25-42a5-46da-9a7c-b564858a8300",
   "metadata": {},
   "outputs": [],
   "source": [
    "tokenizer = AutoTokenizer.from_pretrained(\"bert-base-uncased\")\n",
    "model = AutoModel.from_pretrained(\"bert-base-uncased\")"
   ]
  },
  {
   "cell_type": "code",
   "execution_count": 26,
   "id": "c0bcb494-c540-4ccf-a635-18d76510a4a9",
   "metadata": {},
   "outputs": [],
   "source": [
    "inputs2 = tokenizer(list(df_GC_5['reviewText']), padding=True, truncation=True, max_length=64, return_tensors=\"pt\")\n",
    "outputs2 = model(**inputs2)\n",
    "torch_user_embed = outputs2.pooler_output"
   ]
  },
  {
   "cell_type": "code",
   "execution_count": 28,
   "id": "961ce5f4-ee47-4d0b-a932-484f73db0d94",
   "metadata": {},
   "outputs": [
    {
     "data": {
      "text/plain": [
       "(1000, 768)"
      ]
     },
     "execution_count": 28,
     "metadata": {},
     "output_type": "execute_result"
    }
   ],
   "source": [
    "user_embed = torch_user_embed.detach().numpy()\n",
    "user_embed.shape"
   ]
  },
  {
   "cell_type": "code",
   "execution_count": 19,
   "id": "c59b5ce1-54c9-4e2d-b05e-bad2722fb89a",
   "metadata": {},
   "outputs": [],
   "source": [
    "np.save(\"user_embedding.npy\", user_embed)"
   ]
  },
  {
   "cell_type": "code",
   "execution_count": 24,
   "id": "c42fce0d-ccca-4213-bb05-51adbfdf5252",
   "metadata": {},
   "outputs": [
    {
     "data": {
      "text/plain": [
       "(1000, 768)"
      ]
     },
     "execution_count": 24,
     "metadata": {},
     "output_type": "execute_result"
    }
   ],
   "source": [
    "user_embed = np.load(\"user_embedding.npy\")\n",
    "user_embed.shape"
   ]
  },
  {
   "cell_type": "markdown",
   "id": "d9a81a8d-31a2-4a98-a610-c995b79324d4",
   "metadata": {},
   "source": [
    "# 构建推荐系统评分矩阵"
   ]
  },
  {
   "cell_type": "code",
   "execution_count": 25,
   "id": "d8d94197-a33c-424a-a85a-83798ac68157",
   "metadata": {},
   "outputs": [],
   "source": [
    "item_index = [i for i in range(df_meta_GC_3.shape[0])]\n",
    "item_val = list(df_meta_GC_3['asin'])\n",
    "item_dict = dict(zip(item_val, item_index))"
   ]
  },
  {
   "cell_type": "code",
   "execution_count": 26,
   "id": "a862a3be-dde8-4568-8272-711a57f72d7a",
   "metadata": {},
   "outputs": [],
   "source": [
    "usr_index = [i for i in range(df_GC_5.shape[0])]\n",
    "usr_val = list(df_GC_5['reviewerID']) \n",
    "usr_dict = dict(zip(usr_val, usr_index))"
   ]
  },
  {
   "cell_type": "code",
   "execution_count": 27,
   "id": "8bdd0ab6-ed3d-46f5-8eb0-657fc845aa5a",
   "metadata": {},
   "outputs": [
    {
     "name": "stdout",
     "output_type": "stream",
     "text": [
      "(442, 1000)\n"
     ]
    }
   ],
   "source": [
    "rating = np.zeros((len(item_index), len(usr_index)))\n",
    "for _, row in df_GC_6.iterrows(): \n",
    "    item = row['asin']\n",
    "    user = row['reviewerID']\n",
    "    item_i = item_dict[item]\n",
    "    user_i = usr_dict[user]\n",
    "    rating[item_i, user_i] = row['overall']\n",
    "\n",
    "print(rating.shape)"
   ]
  },
  {
   "cell_type": "code",
   "execution_count": 28,
   "id": "17ee0b36-4c21-4419-8307-2cece44411b0",
   "metadata": {},
   "outputs": [],
   "source": [
    "record = rating > 0\n",
    "record = np.array(record, dtype=int)"
   ]
  },
  {
   "cell_type": "code",
   "execution_count": 29,
   "id": "2590c45c-96fd-4b5e-ab32-bc0ecb2718b8",
   "metadata": {},
   "outputs": [
    {
     "name": "stderr",
     "output_type": "stream",
     "text": [
      "/usr/local/lib/python3.9/dist-packages/numpy/core/fromnumeric.py:3474: RuntimeWarning: Mean of empty slice.\n",
      "  return _methods._mean(a, axis=axis, dtype=dtype,\n",
      "/usr/local/lib/python3.9/dist-packages/numpy/core/_methods.py:189: RuntimeWarning: invalid value encountered in double_scalars\n",
      "  ret = ret.dtype.type(ret / rcount)\n"
     ]
    }
   ],
   "source": [
    "# 对评分取值范围进行缩放\n",
    "# 定义函数：接受两个参数：电影评分表，评分记录表\n",
    "def normalizeRating (rating, record):\n",
    "    m, n = rating.shape # m电影数，n用户数\n",
    " # 每个电影每个用户的评分平均值\n",
    "    rating_mean = np.zeros((m, 1)) # 所有电影平均评分初始化为0\n",
    "    rating_norm = np.zeros((m, n)) # 保存处理之后的数据\n",
    "    for i in range(m): # 将原始评分减去平均评分，将结果和平均评分返回\n",
    "        idx = record[i, :] != 0 # 已评分的电影对应的用户下标\n",
    "        rating_mean[i] = np.mean(rating[i, idx]) # 记录这些评分的平均值，第i部电影\n",
    "        rating_norm[i, idx] -= rating_mean[i] # 原始评分减去评分的平均值\n",
    "    return rating_norm, rating_mean\n",
    "\n",
    "rating_norm, rating_mean = normalizeRating(rating, record) # 结果提示有全0数据，需处理\n",
    "rating_norm = np.nan_to_num(rating_norm) # 将nan数据转换为0\n",
    "rating_mean = np.nan_to_num(rating_mean)"
   ]
  },
  {
   "cell_type": "markdown",
   "id": "1b3c9f03-086b-461c-8ea0-e548fe6b2150",
   "metadata": {},
   "source": [
    "# 训练推荐系统模型，并做消融实验来验证多模态融合的作用"
   ]
  },
  {
   "cell_type": "code",
   "execution_count": 30,
   "id": "6151853a-1693-4460-8297-900201920251",
   "metadata": {},
   "outputs": [
    {
     "name": "stdout",
     "output_type": "stream",
     "text": [
      "WARNING:tensorflow:From /usr/local/lib/python3.9/dist-packages/tensorflow/python/compat/v2_compat.py:107: disable_resource_variables (from tensorflow.python.ops.variable_scope) is deprecated and will be removed in a future version.\n",
      "Instructions for updating:\n",
      "non-resource variables are not supported in the long term\n"
     ]
    }
   ],
   "source": [
    "import tensorflow as tf\n",
    "import tensorflow.compat.v1 as tf\n",
    "tf.disable_v2_behavior()"
   ]
  },
  {
   "cell_type": "code",
   "execution_count": 31,
   "id": "c4580858-9103-40e0-89bb-ed63a2055ab6",
   "metadata": {},
   "outputs": [],
   "source": [
    "# 实验1：商品仅仅只有文本表征\n",
    "# X_parameters = tf.Variable(item_embed)\n",
    "\n",
    "\n",
    "# 实验2：商品仅仅只有图片表征\n",
    "# X_parameters = tf.Variable(image_embed_3)\n",
    "\n",
    "\n",
    "# 实验3：商品的文本和图片多模态融合表征\n",
    "fusion_TI = fusion_TI.numpy()\n",
    "X_parameters = tf.Variable(fusion_TI)\n",
    "\n",
    "#---------------------------------------------------------------------------------------------------------------------------------\n",
    "Theta_parameters = tf.Variable(user_embed)\n",
    "X_parameters = tf.cast(X_parameters,dtype=tf.float32)\n",
    "Theta_parameters = tf.cast(Theta_parameters,dtype=tf.float32)"
   ]
  },
  {
   "cell_type": "code",
   "execution_count": 32,
   "id": "9d790f6a-91d9-40bf-a81b-cd8de5cbf1dc",
   "metadata": {},
   "outputs": [
    {
     "data": {
      "text/plain": [
       "(tensorflow.python.framework.ops.Tensor,\n",
       " tensorflow.python.framework.ops.Tensor)"
      ]
     },
     "execution_count": 32,
     "metadata": {},
     "output_type": "execute_result"
    }
   ],
   "source": [
    "type(X_parameters), type(Theta_parameters)"
   ]
  },
  {
   "cell_type": "code",
   "execution_count": 33,
   "id": "8296d933-adea-4859-9cc3-66596c82b116",
   "metadata": {},
   "outputs": [],
   "source": [
    "loss = 1/2 * tf.reduce_sum(((tf.matmul(X_parameters, Theta_parameters,\n",
    "transpose_b=True) - rating_norm) * record) ** 2) + 1/2 * (tf.reduce_sum(X_parameters ** 2) + tf.reduce_sum(Theta_parameters ** 2))"
   ]
  },
  {
   "cell_type": "code",
   "execution_count": 34,
   "id": "356f60bd-78e5-4668-9a31-2dd8c8b13cbe",
   "metadata": {},
   "outputs": [],
   "source": [
    "tf.compat.v1.disable_eager_execution()\n",
    "\n",
    "# 创建adam优化器和优化目标\n",
    "optimizer = tf.compat.v1.train.AdamOptimizer(10**-4) # 学习速率10^-4\n",
    "train = optimizer.minimize(loss) # 目标：最小化代价函数\n",
    "train = tf.compat.v1.train.GradientDescentOptimizer(0.0001).minimize(loss)"
   ]
  },
  {
   "cell_type": "code",
   "execution_count": 35,
   "id": "b7efcd96-c165-4eaf-a22a-5b9ed39b1614",
   "metadata": {},
   "outputs": [
    {
     "name": "stderr",
     "output_type": "stream",
     "text": [
      "2023-09-05 13:30:28.823351: I tensorflow/core/platform/cpu_feature_guard.cc:151] This TensorFlow binary is optimized with oneAPI Deep Neural Network Library (oneDNN) to use the following CPU instructions in performance-critical operations:  AVX2 FMA\n",
      "To enable them in other operations, rebuild TensorFlow with the appropriate compiler flags.\n",
      "2023-09-05 13:30:30.687040: I tensorflow/core/common_runtime/gpu/gpu_device.cc:1525] Created device /job:localhost/replica:0/task:0/device:GPU:0 with 21816 MB memory:  -> device: 0, name: NVIDIA GeForce RTX 3090, pci bus id: 0000:03:00.0, compute capability: 8.6\n",
      "2023-09-05 13:30:32.273613: I tensorflow/stream_executor/cuda/cuda_blas.cc:1786] TensorFloat-32 will be used for the matrix multiplication. This will only be logged once.\n"
     ]
    }
   ],
   "source": [
    "# 由于loss值是标量，所以要用summary中的scalar\n",
    "tf.compat.v1.summary.scalar('loss', loss)\n",
    "\n",
    "# 将所有summary信息汇总\n",
    "summaryMerged = tf.compat.v1.summary.merge_all()\n",
    "\n",
    "# 创建tensorflow会话\n",
    "sess = tf.compat.v1.Session()\n",
    "init = tf.compat.v1.global_variables_initializer()\n",
    "sess.run(init)\n",
    "\n",
    "#loss_list = []\n",
    "#error_list = []\n",
    "for i in range(20000):\n",
    "    movie_summary = sess.run([train, summaryMerged]) \n",
    "    sess.run(loss)\n",
    "    #ls = sess.run(loss)\n",
    "    #loss_list.append(ls)\n",
    "    #Current_X_parameters, Current_Theta_parameters = sess.run([X_parameters, Theta_parameters])\n",
    "    #predicts = np.dot(Current_X_parameters, Current_Theta_parameters.T) + rating_mean\n",
    "    #errors = np.sqrt(np.sum((predicts - rating)**2))\n",
    "    #error_list.append(errors)\n",
    "    #if i % 50 == 0:\n",
    "        #print(i, ls, errors)"
   ]
  },
  {
   "cell_type": "markdown",
   "id": "76bfd229-49dc-44f0-89a6-ab8f53016328",
   "metadata": {},
   "source": [
    "# 消融实验"
   ]
  },
  {
   "cell_type": "code",
   "execution_count": 30,
   "id": "947c504b-3552-4930-9bfe-60e458e66761",
   "metadata": {},
   "outputs": [
    {
     "data": {
      "text/plain": [
       "2564.7210566628173"
      ]
     },
     "execution_count": 30,
     "metadata": {},
     "output_type": "execute_result"
    }
   ],
   "source": [
    "# Only text embedding for item\n",
    "Current_X_parameters, Current_Theta_parameters = sess.run([X_parameters, Theta_parameters])\n",
    "predicts = np.dot(Current_X_parameters, Current_Theta_parameters.T) + rating_mean\n",
    "errors1 = np.sqrt(np.sum((predicts - rating)**2))\n",
    "errors1"
   ]
  },
  {
   "cell_type": "code",
   "execution_count": 32,
   "id": "226bb116-a9b9-4964-a933-1c87716d8d95",
   "metadata": {},
   "outputs": [
    {
     "data": {
      "text/plain": [
       "1407.3795302556043"
      ]
     },
     "execution_count": 32,
     "metadata": {},
     "output_type": "execute_result"
    }
   ],
   "source": [
    "# Only image embedding for item\n",
    "Current_X_parameters, Current_Theta_parameters = sess.run([X_parameters, Theta_parameters])\n",
    "predicts = np.dot(Current_X_parameters, Current_Theta_parameters.T) + rating_mean\n",
    "errors2 = np.sqrt(np.sum((predicts - rating)**2))\n",
    "errors2"
   ]
  },
  {
   "cell_type": "code",
   "execution_count": 37,
   "id": "cfc6db54-c2d9-4c76-b744-011b19f0b110",
   "metadata": {},
   "outputs": [
    {
     "data": {
      "text/plain": [
       "1189.8983152359126"
      ]
     },
     "execution_count": 37,
     "metadata": {},
     "output_type": "execute_result"
    }
   ],
   "source": [
    "# Multimodal fustion of text embedding and image embedding for item\n",
    "Current_X_parameters, Current_Theta_parameters = sess.run([X_parameters, Theta_parameters])\n",
    "predicts = np.dot(Current_X_parameters, Current_Theta_parameters.T) + rating_mean\n",
    "errors3 = np.sqrt(np.sum((predicts - rating)**2))\n",
    "errors3"
   ]
  },
  {
   "cell_type": "markdown",
   "id": "eb710a94-c908-4a67-aa58-6a83882a6879",
   "metadata": {},
   "source": [
    "# 可视化训练过程"
   ]
  },
  {
   "cell_type": "code",
   "execution_count": 35,
   "id": "d19c771e-9978-41a0-9516-63b51dac8630",
   "metadata": {},
   "outputs": [
    {
     "name": "stderr",
     "output_type": "stream",
     "text": [
      "2023-09-03 12:57:41.181932: I tensorflow/core/platform/cpu_feature_guard.cc:151] This TensorFlow binary is optimized with oneAPI Deep Neural Network Library (oneDNN) to use the following CPU instructions in performance-critical operations:  AVX2 FMA\n",
      "To enable them in other operations, rebuild TensorFlow with the appropriate compiler flags.\n",
      "2023-09-03 12:57:42.870100: I tensorflow/core/common_runtime/gpu/gpu_device.cc:1525] Created device /job:localhost/replica:0/task:0/device:GPU:0 with 21816 MB memory:  -> device: 0, name: NVIDIA GeForce RTX 3090, pci bus id: 0000:03:00.0, compute capability: 8.6\n",
      "2023-09-03 12:57:44.459189: I tensorflow/stream_executor/cuda/cuda_blas.cc:1786] TensorFloat-32 will be used for the matrix multiplication. This will only be logged once.\n"
     ]
    }
   ],
   "source": [
    "# 由于loss值是标量，所以要用summary中的scalar\n",
    "tf.compat.v1.summary.scalar('loss', loss)\n",
    "\n",
    "# 将所有summary信息汇总\n",
    "summaryMerged = tf.compat.v1.summary.merge_all()\n",
    "\n",
    "# 创建tensorflow会话\n",
    "sess = tf.compat.v1.Session()\n",
    "init = tf.compat.v1.global_variables_initializer()\n",
    "sess.run(init)\n",
    "\n",
    "loss_list = []\n",
    "error_list = []\n",
    "for i in range(20000):\n",
    "    movie_summary = sess.run([train, summaryMerged]) \n",
    "    ls = sess.run(loss)\n",
    "    loss_list.append(ls)\n",
    "    Current_X_parameters, Current_Theta_parameters = sess.run([X_parameters, Theta_parameters])\n",
    "    predicts = np.dot(Current_X_parameters, Current_Theta_parameters.T) + rating_mean\n",
    "    errors = np.sqrt(np.sum((predicts - rating)**2))\n",
    "    error_list.append(errors)\n",
    "    #if i % 50 == 0:\n",
    "        #print(i, ls, errors)"
   ]
  },
  {
   "cell_type": "code",
   "execution_count": 36,
   "id": "e79e0c21-1e7a-4170-a424-a6e65fabe721",
   "metadata": {},
   "outputs": [
    {
     "data": {
      "image/png": "[encoded data removed]",
      "text/plain": [
       "<Figure size 432x288 with 1 Axes>"
      ]
     },
     "metadata": {
      "needs_background": "light"
     },
     "output_type": "display_data"
    }
   ],
   "source": [
    "import matplotlib.pyplot as plt\n",
    "x = [i for i in range(len(loss_list))]\n",
    "plt.plot(x,loss_list,'y.-')\n",
    "plt.xlabel('Epoch')\n",
    "plt.ylabel('Loss')\n",
    "plt.show()"
   ]
  },
  {
   "cell_type": "code",
   "execution_count": 37,
   "id": "37f83bfa-e765-4f15-8afd-2561f2907f2e",
   "metadata": {},
   "outputs": [
    {
     "data": {
      "image/png": "[encoded data removed]",
      "text/plain": [
       "<Figure size 432x288 with 1 Axes>"
      ]
     },
     "metadata": {
      "needs_background": "light"
     },
     "output_type": "display_data"
    }
   ],
   "source": [
    "plt.plot(x,error_list,'r.-')\n",
    "plt.xlabel('Epoch')\n",
    "plt.ylabel('Error')\n",
    "plt.show()"
   ]
  },
  {
   "cell_type": "code",
   "execution_count": 38,
   "id": "2ab1daf8-e5dc-4af6-b074-192dd68a8031",
   "metadata": {},
   "outputs": [],
   "source": [
    "# 使用前面得到的参数，填满电影评分表\n",
    " \n",
    "# 获取当前X和theta\n",
    "Current_X_parameters, Current_Theta_parameters = sess.run([X_parameters, Theta_parameters])\n",
    " \n",
    "# 将电影内容矩阵和用户喜好矩阵相乘，再加上每一行的均值，得到一个完整的电影评分表\n",
    "# dot用于矩阵之间的乘法操作\n",
    "predicts = np.dot(Current_X_parameters, Current_Theta_parameters.T) + rating_mean\n",
    "np.save(\"predicts.npy\", predicts)"
   ]
  },
  {
   "cell_type": "markdown",
   "id": "f06ab735-7425-429f-ae66-564816a83bce",
   "metadata": {},
   "source": [
    "# 计算用户相似度"
   ]
  },
  {
   "cell_type": "code",
   "execution_count": 45,
   "id": "cd9d90bf-a602-489a-8efc-351e0dcb43b9",
   "metadata": {},
   "outputs": [
    {
     "data": {
      "text/plain": [
       "(1000, 442)"
      ]
     },
     "execution_count": 45,
     "metadata": {},
     "output_type": "execute_result"
    }
   ],
   "source": [
    "predicts2 = predicts.T\n",
    "predicts2.shape"
   ]
  },
  {
   "cell_type": "code",
   "execution_count": 47,
   "id": "5d6121eb-38ca-4df1-ae59-c8af675208c3",
   "metadata": {},
   "outputs": [],
   "source": [
    "user_sim_matrix = np.zeros((1000, 1000))    \n",
    "for i in range(1000):\n",
    "    for j in range(1000):\n",
    "        vec1 = predicts2[i]\n",
    "        vec2 = predicts2[j]\n",
    "        cos_sim = vec1.dot(vec2) / (np.linalg.norm(vec1) * np.linalg.norm(vec2))\n",
    "        user_sim_matrix[i, j] = cos_sim"
   ]
  },
  {
   "cell_type": "code",
   "execution_count": 56,
   "id": "e8b44d0c-f964-49d3-ba88-e4c5b98f4035",
   "metadata": {},
   "outputs": [],
   "source": [
    "user_sim_matrix2 = np.zeros((1000, 1000))    \n",
    "for i in range(1000):\n",
    "    for j in range(1000):\n",
    "        vec1 = user_embed[i]\n",
    "        vec2 = user_embed[j]\n",
    "        cos_sim = vec1.dot(vec2) / (np.linalg.norm(vec1) * np.linalg.norm(vec2))\n",
    "        user_sim_matrix2[i, j] = cos_sim"
   ]
  },
  {
   "cell_type": "code",
   "execution_count": 61,
   "id": "0504f8ae-4bf9-4e9d-b2da-fec2e7d24200",
   "metadata": {},
   "outputs": [],
   "source": [
    "user_sim_matrix_all = 0.5 * user_sim_matrix + 0.5 * user_sim_matrix2"
   ]
  },
  {
   "cell_type": "code",
   "execution_count": 62,
   "id": "99db296c-b95c-4c89-899c-de601660b05a",
   "metadata": {},
   "outputs": [],
   "source": [
    "np.save(\"user_sim_matrix_all.npy\", user_sim_matrix_all)"
   ]
  },
  {
   "cell_type": "markdown",
   "id": "d640200e-2caf-4c3f-b4ed-ed7351a27f83",
   "metadata": {},
   "source": [
    "# 开始推荐"
   ]
  },
  {
   "cell_type": "code",
   "execution_count": 29,
   "id": "e5be32cb-15f6-4a55-ab01-b26804e87f94",
   "metadata": {},
   "outputs": [],
   "source": [
    "predicts = np.load(\"predicts.npy\")"
   ]
  },
  {
   "cell_type": "code",
   "execution_count": 30,
   "id": "8fe6027c-6c21-4ad6-843f-fc5fcaa28440",
   "metadata": {},
   "outputs": [],
   "source": [
    "user_sim_matrix_all = np.load(\"user_sim_matrix_all.npy\")"
   ]
  },
  {
   "cell_type": "code",
   "execution_count": 31,
   "id": "9509d110-57aa-464b-8e2b-29ec7d404082",
   "metadata": {},
   "outputs": [],
   "source": [
    "df_meta_GC_3 = pd.read_csv('Processed_Item_Info.csv')"
   ]
  },
  {
   "cell_type": "code",
   "execution_count": 32,
   "id": "05d5d37d-5e22-4e99-8f8b-9df808a22a55",
   "metadata": {},
   "outputs": [],
   "source": [
    "df_GC_5 = pd.read_csv('Processed_User_Info.csv')"
   ]
  },
  {
   "cell_type": "code",
   "execution_count": 33,
   "id": "8b5196d3-ebe8-47e0-a373-3d633b6beec3",
   "metadata": {},
   "outputs": [],
   "source": [
    "rules = pd.read_csv('Rules.csv')\n",
    "rules['antecedents'] = rules['antecedents'].map(eval)\n",
    "rules['consequents'] = rules['consequents'].map(eval)"
   ]
  },
  {
   "cell_type": "code",
   "execution_count": 37,
   "id": "d8df8f18-e4be-4b94-8e25-f4b642fd7674",
   "metadata": {},
   "outputs": [
    {
     "name": "stdin",
     "output_type": "stream",
     "text": [
      "您要向哪位用户进行推荐？请输入用户编号(0-999)： 9\n"
     ]
    },
    {
     "name": "stdout",
     "output_type": "stream",
     "text": [
      "\n",
      "==========================为该用户推荐的评分最高的20个Gift Card商品是===========================\n",
      "预测评分：32.88, 商品ID：B004Q7CK9M\n",
      "预测评分：6.02, 商品ID：B00MV9K620\n",
      "预测评分：5.75, 商品ID：B00ELQD5K6\n",
      "预测评分：5.75, 商品ID：B00BXLV9NM\n",
      "预测评分：5.60, 商品ID：B01E4QRAX0\n",
      "预测评分：5.22, 商品ID：B00UUCWCPE\n",
      "预测评分：5.09, 商品ID：B00O3YKR48\n",
      "预测评分：4.94, 商品ID：B00UW1CEMY\n",
      "预测评分：4.74, 商品ID：B00CXZP74Y\n",
      "预测评分：4.69, 商品ID：B00BXLTJ8O\n",
      "预测评分：4.64, 商品ID：B016PASXA2\n",
      "预测评分：4.57, 商品ID：B00KFLZOWS\n",
      "预测评分：4.54, 商品ID：B00YD74M4Q\n",
      "预测评分：4.51, 商品ID：B00BXLSM0A\n",
      "预测评分：4.49, 商品ID：B01B25L7US\n",
      "预测评分：4.25, 商品ID：B00BXLUXYS\n",
      "预测评分：4.11, 商品ID：B00OGQ7SAO\n",
      "预测评分：4.08, 商品ID：B00BXLVD8I\n",
      "预测评分：3.79, 商品ID：B00FTGSKL6\n",
      "预测评分：3.64, 商品ID：B00BXLVQLM\n",
      "\n",
      "根据关联规则分析\n",
      "对于商品 B00BXLVD8I 您可以进一步购买 ['B00CXZPG0O']\n",
      "Support: 0.2058823529411764\n",
      "Confidence: 0.9578947368421052\n",
      "Lift: 2.0065851833374904\n",
      "\n",
      "根据关联规则分析\n",
      "对于商品 B00BXLVD8I 您可以进一步购买 ['B00GOLGWVK']\n",
      "Support: 0.1923076923076923\n",
      "Confidence: 0.8947368421052632\n",
      "Lift: 1.9013157894736843\n",
      "\n",
      "根据关联规则分析\n",
      "对于商品 B00BXLVD8I 您可以进一步购买 ['B009HE86FQ']\n",
      "Support: 0.1877828054298642\n",
      "Confidence: 0.8736842105263157\n",
      "Lift: 3.300584795321637\n",
      "\n",
      "根据关联规则分析\n",
      "对于商品 B00BXLVD8I 您可以进一步购买 ['B00AS527QW']\n",
      "Support: 0.1787330316742081\n",
      "Confidence: 0.831578947368421\n",
      "Lift: 2.434158243290345\n",
      "\n",
      "根据关联规则分析\n",
      "对于商品 B00BXLVD8I 您可以进一步购买 ['B00BXLT3VC']\n",
      "Support: 0.169683257918552\n",
      "Confidence: 0.7894736842105263\n",
      "Lift: 2.9078947368421053\n",
      "\n",
      "根据关联规则分析\n",
      "对于商品 B00FTGSKL6 您可以进一步购买 ['B00GOLGWVK']\n",
      "Support: 0.1538461538461538\n",
      "Confidence: 0.9315068493150686\n",
      "Lift: 1.979452054794521\n",
      "\n",
      "根据关联规则分析\n",
      "对于商品 B00FTGSKL6 您可以进一步购买 ['B00CXZPG0O']\n",
      "Support: 0.1538461538461538\n",
      "Confidence: 0.9315068493150686\n",
      "Lift: 1.9513081867168731\n",
      "\n",
      "\n",
      "=================================此外，您可能感兴趣的用户有：=================================\n",
      "相似度：1.00, 用户ID：A11KTOXMTC7SB1\n",
      "相似度：0.99, 用户ID：A7YH1T9G62CHT\n",
      "相似度：0.99, 用户ID：A2GAY2M7ZKQT6J\n",
      "相似度：0.99, 用户ID：A34K2VL49C67RR\n",
      "相似度：0.99, 用户ID：A3GO7T02IHNZDG\n",
      "相似度：0.99, 用户ID：A3BKOFA0AY95FM\n",
      "相似度：0.99, 用户ID：ANOYP4G55EE8P\n",
      "相似度：0.99, 用户ID：A2FLG5KQTIXM00\n",
      "相似度：0.99, 用户ID：A2G8D9W3EGJL12\n",
      "相似度：0.99, 用户ID：ATHZ3P2D8KXTI\n"
     ]
    }
   ],
   "source": [
    "# 获取用户ID，并保存\n",
    "user_id = input('您要向哪位用户进行推荐？请输入用户编号(0-999)：')\n",
    " \n",
    "# 获取对该用户电影评分的列表\n",
    "# 预测出的用户对电影的评分，并从大到小排序\n",
    "sortedResult = predicts[:, int(user_id)].argsort()[::-1]\n",
    "\n",
    "recommended_num = 20\n",
    "# 向该用户推荐评分最高的20部电影\n",
    "idx = 0 # 保存已经推荐了多少部电影\n",
    "print()\n",
    "print('为该用户推荐的评分最高的20个Gift Card商品是'.center(80, '='))\n",
    " \n",
    "# 开始推荐\n",
    "#填空输出推荐内容\n",
    "#*************************************************************************************************************************\n",
    "reco_item_list = []\n",
    "for i in sortedResult:\n",
    "    reco_item = df_meta_GC_3.iloc[i]['asin']\n",
    "    print('预测评分：%.2f, 商品ID：%s'% (predicts[i, int(user_id)], reco_item))\n",
    "    reco_item_list.append(reco_item)\n",
    "    idx += 1 \n",
    "    if idx == recommended_num: break\n",
    "\n",
    "print()\n",
    "num = 5\n",
    "num_idx = 0\n",
    "for item in reco_item_list:\n",
    "    for j in range(rules.shape[0]):\n",
    "        if item in rules['antecedents'][j]:\n",
    "            print('根据关联规则分析')\n",
    "            print('对于商品', item, '您可以进一步购买', rules['consequents'][j])\n",
    "            print('Support:', rules['support'][j])\n",
    "            print('Confidence:', rules['confidence'][j])\n",
    "            print('Lift:', rules['lift'][j])\n",
    "            print()\n",
    "            num_idx += 1\n",
    "            if num_idx == num: break\n",
    "\n",
    "print()\n",
    "print('此外，您可能感兴趣的用户有：'.center(80, '='))\n",
    "sortedResult = user_sim_matrix_all[:, int(user_id)].argsort()[::-1]\n",
    "\n",
    "recommended_user_num = 10\n",
    "idx2 = 0 # 保存已经推荐了多少部电影\n",
    " \n",
    "# 开始推荐///////////////////////////////////////////////////////////////////////////////////////////////////////////////////////////////////////////////////////////////////////////////////////////////////////////////////////////////////////////////////////////////////////////////////////////////////////////////////////////////////////////////////////////////////////////////////////////////////////////////////////////////////////////////////////////////////////////////////////////////////////////////////////////////////////////////////////////////////////////////////////////////////////////////////////////////////////////////////////////////////////////////////////////////////////////////////////////////////////////////////////////////////////////////////////////////////////////////////////////////////////////////////////////////////////////////////////////////////////;///////////////////////////////////////////////////////////////////////////////////////////////////////////////////////////////////////////////////////////////////////////////////////////////////////////////////////////////////////////////////////////////////////////////////////////////////////////////\n",
    "#填空输出推荐内容\n",
    "#*************************************************************************************************************************\n",
    "for i in sortedResult:\n",
    "    print('相似度：%.2f, 用户ID：%s'% (user_sim_matrix_all[i, int(user_id)], df_GC_5.iloc[i]['reviewerID']))\n",
    "    idx2 += 1 \n",
    "    if idx2 == recommended_user_num: break"
   ]
  },
  {
   "cell_type": "code",
   "execution_count": null,
   "id": "72babbd2-9a3b-48f0-ad9f-5a8d8349d128",
   "metadata": {},
   "outputs": [],
   "source": []
  }
 ],
 "metadata": {
  "kernelspec": {
   "display_name": "Python 3 (ipykernel)",
   "language": "python",
   "name": "python3"
  },
  "language_info": {
   "codemirror_mode": {
    "name": "ipython",
    "version": 3
   },
   "file_extension": ".py",
   "mimetype": "text/x-python",
   "name": "python",
   "nbconvert_exporter": "python",
   "pygments_lexer": "ipython3",
   "version": "3.9.7"
  }
 },
 "nbformat": 4,
 "nbformat_minor": 5
}
